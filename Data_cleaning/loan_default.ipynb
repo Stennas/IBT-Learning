{
 "cells": [
  {
   "cell_type": "code",
   "execution_count": 1,
   "id": "4e9ba8d9-4fc8-4af6-ab1a-6f82601bc98e",
   "metadata": {},
   "outputs": [],
   "source": [
    "import pandas as pd\n",
    "import numpy as np"
   ]
  },
  {
   "cell_type": "code",
   "execution_count": 2,
   "id": "a3762fc7-2026-43da-85da-5db1f7d14178",
   "metadata": {},
   "outputs": [],
   "source": [
    "data = pd.read_csv(\"loan_default.csv\")"
   ]
  },
  {
   "cell_type": "code",
   "execution_count": 3,
   "id": "fb82464a-25e7-4d33-bf33-6be19b8e5788",
   "metadata": {},
   "outputs": [
    {
     "data": {
      "text/html": [
       "<div>\n",
       "<style scoped>\n",
       "    .dataframe tbody tr th:only-of-type {\n",
       "        vertical-align: middle;\n",
       "    }\n",
       "\n",
       "    .dataframe tbody tr th {\n",
       "        vertical-align: top;\n",
       "    }\n",
       "\n",
       "    .dataframe thead th {\n",
       "        text-align: right;\n",
       "    }\n",
       "</style>\n",
       "<table border=\"1\" class=\"dataframe\">\n",
       "  <thead>\n",
       "    <tr style=\"text-align: right;\">\n",
       "      <th></th>\n",
       "      <th>TARGET</th>\n",
       "      <th>NAME_CONTRACT_TYPE</th>\n",
       "      <th>CODE_GENDER</th>\n",
       "      <th>FLAG_OWN_CAR</th>\n",
       "      <th>FLAG_OWN_REALTY</th>\n",
       "      <th>CNT_CHILDREN</th>\n",
       "      <th>AMT_INCOME_TOTAL</th>\n",
       "      <th>AMT_CREDIT</th>\n",
       "      <th>AMT_ANNUITY</th>\n",
       "      <th>DAYS_BIRTH</th>\n",
       "      <th>YEARS_EMPLOYED</th>\n",
       "    </tr>\n",
       "  </thead>\n",
       "  <tbody>\n",
       "    <tr>\n",
       "      <th>0</th>\n",
       "      <td>0.0</td>\n",
       "      <td>Cash loans</td>\n",
       "      <td>M</td>\n",
       "      <td>Y</td>\n",
       "      <td>N</td>\n",
       "      <td>1</td>\n",
       "      <td>225000.0</td>\n",
       "      <td>578619.0</td>\n",
       "      <td>23229.0</td>\n",
       "      <td>-12347</td>\n",
       "      <td>0</td>\n",
       "    </tr>\n",
       "    <tr>\n",
       "      <th>1</th>\n",
       "      <td>0.0</td>\n",
       "      <td>Revolving loans</td>\n",
       "      <td>M</td>\n",
       "      <td>Y</td>\n",
       "      <td>Y</td>\n",
       "      <td>1</td>\n",
       "      <td>NaN</td>\n",
       "      <td>270000.0</td>\n",
       "      <td>13500.0</td>\n",
       "      <td>-14048</td>\n",
       "      <td>6</td>\n",
       "    </tr>\n",
       "    <tr>\n",
       "      <th>2</th>\n",
       "      <td>0.0</td>\n",
       "      <td>Cash loans</td>\n",
       "      <td>M</td>\n",
       "      <td>Y</td>\n",
       "      <td>N</td>\n",
       "      <td>0</td>\n",
       "      <td>144000.0</td>\n",
       "      <td>753840.0</td>\n",
       "      <td>29340.0</td>\n",
       "      <td>-14639</td>\n",
       "      <td>6</td>\n",
       "    </tr>\n",
       "    <tr>\n",
       "      <th>3</th>\n",
       "      <td>0.0</td>\n",
       "      <td>Cash loans</td>\n",
       "      <td>F</td>\n",
       "      <td>N</td>\n",
       "      <td>Y</td>\n",
       "      <td>0</td>\n",
       "      <td>81000.0</td>\n",
       "      <td>98910.0</td>\n",
       "      <td>7785.0</td>\n",
       "      <td>-14591</td>\n",
       "      <td>11</td>\n",
       "    </tr>\n",
       "    <tr>\n",
       "      <th>4</th>\n",
       "      <td>0.0</td>\n",
       "      <td>Cash loans</td>\n",
       "      <td>F</td>\n",
       "      <td>N</td>\n",
       "      <td>Y</td>\n",
       "      <td>1</td>\n",
       "      <td>103500.0</td>\n",
       "      <td>521280.0</td>\n",
       "      <td>26779.5</td>\n",
       "      <td>-12023</td>\n",
       "      <td>0</td>\n",
       "    </tr>\n",
       "    <tr>\n",
       "      <th>5</th>\n",
       "      <td>1.0</td>\n",
       "      <td>Cash loans</td>\n",
       "      <td>M</td>\n",
       "      <td>Y</td>\n",
       "      <td>Y</td>\n",
       "      <td>2</td>\n",
       "      <td>202500.0</td>\n",
       "      <td>781920.0</td>\n",
       "      <td>40054.5</td>\n",
       "      <td>-11653</td>\n",
       "      <td>3</td>\n",
       "    </tr>\n",
       "    <tr>\n",
       "      <th>6</th>\n",
       "      <td>0.0</td>\n",
       "      <td>Cash loans</td>\n",
       "      <td>F</td>\n",
       "      <td>N</td>\n",
       "      <td>Y</td>\n",
       "      <td>1</td>\n",
       "      <td>NaN</td>\n",
       "      <td>305221.5</td>\n",
       "      <td>20002.5</td>\n",
       "      <td>-11665</td>\n",
       "      <td>2</td>\n",
       "    </tr>\n",
       "    <tr>\n",
       "      <th>7</th>\n",
       "      <td>0.0</td>\n",
       "      <td>Cash loans</td>\n",
       "      <td>F</td>\n",
       "      <td>Y</td>\n",
       "      <td>N</td>\n",
       "      <td>0</td>\n",
       "      <td>202500.0</td>\n",
       "      <td>315000.0</td>\n",
       "      <td>13873.5</td>\n",
       "      <td>-10465</td>\n",
       "      <td>5</td>\n",
       "    </tr>\n",
       "    <tr>\n",
       "      <th>8</th>\n",
       "      <td>0.0</td>\n",
       "      <td>Cash loans</td>\n",
       "      <td>M</td>\n",
       "      <td>Y</td>\n",
       "      <td>Y</td>\n",
       "      <td>0</td>\n",
       "      <td>337500.0</td>\n",
       "      <td>493497.0</td>\n",
       "      <td>58698.0</td>\n",
       "      <td>-10136</td>\n",
       "      <td>3</td>\n",
       "    </tr>\n",
       "    <tr>\n",
       "      <th>9</th>\n",
       "      <td>1.0</td>\n",
       "      <td>Cash loans</td>\n",
       "      <td>M</td>\n",
       "      <td>Y</td>\n",
       "      <td>Y</td>\n",
       "      <td>0</td>\n",
       "      <td>202500.0</td>\n",
       "      <td>254700.0</td>\n",
       "      <td>25834.5</td>\n",
       "      <td>-9785</td>\n",
       "      <td>3</td>\n",
       "    </tr>\n",
       "  </tbody>\n",
       "</table>\n",
       "</div>"
      ],
      "text/plain": [
       "   TARGET NAME_CONTRACT_TYPE CODE_GENDER FLAG_OWN_CAR FLAG_OWN_REALTY  \\\n",
       "0     0.0         Cash loans           M            Y               N   \n",
       "1     0.0    Revolving loans           M            Y               Y   \n",
       "2     0.0         Cash loans           M            Y               N   \n",
       "3     0.0         Cash loans           F            N               Y   \n",
       "4     0.0         Cash loans           F            N               Y   \n",
       "5     1.0         Cash loans           M            Y               Y   \n",
       "6     0.0         Cash loans           F            N               Y   \n",
       "7     0.0         Cash loans           F            Y               N   \n",
       "8     0.0         Cash loans           M            Y               Y   \n",
       "9     1.0         Cash loans           M            Y               Y   \n",
       "\n",
       "   CNT_CHILDREN  AMT_INCOME_TOTAL  AMT_CREDIT  AMT_ANNUITY  DAYS_BIRTH  \\\n",
       "0             1          225000.0    578619.0      23229.0      -12347   \n",
       "1             1               NaN    270000.0      13500.0      -14048   \n",
       "2             0          144000.0    753840.0      29340.0      -14639   \n",
       "3             0           81000.0     98910.0       7785.0      -14591   \n",
       "4             1          103500.0    521280.0      26779.5      -12023   \n",
       "5             2          202500.0    781920.0      40054.5      -11653   \n",
       "6             1               NaN    305221.5      20002.5      -11665   \n",
       "7             0          202500.0    315000.0      13873.5      -10465   \n",
       "8             0          337500.0    493497.0      58698.0      -10136   \n",
       "9             0          202500.0    254700.0      25834.5       -9785   \n",
       "\n",
       "   YEARS_EMPLOYED  \n",
       "0               0  \n",
       "1               6  \n",
       "2               6  \n",
       "3              11  \n",
       "4               0  \n",
       "5               3  \n",
       "6               2  \n",
       "7               5  \n",
       "8               3  \n",
       "9               3  "
      ]
     },
     "execution_count": 3,
     "metadata": {},
     "output_type": "execute_result"
    }
   ],
   "source": [
    "data.head(10)"
   ]
  },
  {
   "cell_type": "code",
   "execution_count": 4,
   "id": "b2e73d87-be41-443d-a4f1-7581ad7235dc",
   "metadata": {},
   "outputs": [
    {
     "data": {
      "text/html": [
       "<div>\n",
       "<style scoped>\n",
       "    .dataframe tbody tr th:only-of-type {\n",
       "        vertical-align: middle;\n",
       "    }\n",
       "\n",
       "    .dataframe tbody tr th {\n",
       "        vertical-align: top;\n",
       "    }\n",
       "\n",
       "    .dataframe thead th {\n",
       "        text-align: right;\n",
       "    }\n",
       "</style>\n",
       "<table border=\"1\" class=\"dataframe\">\n",
       "  <thead>\n",
       "    <tr style=\"text-align: right;\">\n",
       "      <th></th>\n",
       "      <th>count</th>\n",
       "      <th>mean</th>\n",
       "      <th>std</th>\n",
       "      <th>min</th>\n",
       "      <th>25%</th>\n",
       "      <th>50%</th>\n",
       "      <th>75%</th>\n",
       "      <th>max</th>\n",
       "    </tr>\n",
       "  </thead>\n",
       "  <tbody>\n",
       "    <tr>\n",
       "      <th>TARGET</th>\n",
       "      <td>10281.0</td>\n",
       "      <td>0.079078</td>\n",
       "      <td>0.269873</td>\n",
       "      <td>0.0</td>\n",
       "      <td>0.000</td>\n",
       "      <td>0.0</td>\n",
       "      <td>0.0</td>\n",
       "      <td>1.0</td>\n",
       "    </tr>\n",
       "    <tr>\n",
       "      <th>CNT_CHILDREN</th>\n",
       "      <td>10284.0</td>\n",
       "      <td>10.287340</td>\n",
       "      <td>986.138233</td>\n",
       "      <td>0.0</td>\n",
       "      <td>0.000</td>\n",
       "      <td>0.0</td>\n",
       "      <td>1.0</td>\n",
       "      <td>99999.0</td>\n",
       "    </tr>\n",
       "    <tr>\n",
       "      <th>AMT_INCOME_TOTAL</th>\n",
       "      <td>6993.0</td>\n",
       "      <td>167909.947902</td>\n",
       "      <td>105245.713874</td>\n",
       "      <td>27000.0</td>\n",
       "      <td>112500.000</td>\n",
       "      <td>144000.0</td>\n",
       "      <td>202500.0</td>\n",
       "      <td>3825000.0</td>\n",
       "    </tr>\n",
       "    <tr>\n",
       "      <th>AMT_CREDIT</th>\n",
       "      <td>10284.0</td>\n",
       "      <td>599902.578326</td>\n",
       "      <td>400843.758473</td>\n",
       "      <td>45000.0</td>\n",
       "      <td>270000.000</td>\n",
       "      <td>512446.5</td>\n",
       "      <td>810000.0</td>\n",
       "      <td>4050000.0</td>\n",
       "    </tr>\n",
       "    <tr>\n",
       "      <th>AMT_ANNUITY</th>\n",
       "      <td>10284.0</td>\n",
       "      <td>27191.230747</td>\n",
       "      <td>14933.326225</td>\n",
       "      <td>2974.5</td>\n",
       "      <td>16509.375</td>\n",
       "      <td>25128.0</td>\n",
       "      <td>34596.0</td>\n",
       "      <td>258025.5</td>\n",
       "    </tr>\n",
       "    <tr>\n",
       "      <th>DAYS_BIRTH</th>\n",
       "      <td>10284.0</td>\n",
       "      <td>-16055.232400</td>\n",
       "      <td>4377.738214</td>\n",
       "      <td>-25166.0</td>\n",
       "      <td>-19724.250</td>\n",
       "      <td>-15733.5</td>\n",
       "      <td>-12352.0</td>\n",
       "      <td>-7680.0</td>\n",
       "    </tr>\n",
       "    <tr>\n",
       "      <th>YEARS_EMPLOYED</th>\n",
       "      <td>10284.0</td>\n",
       "      <td>-176.848016</td>\n",
       "      <td>388.125395</td>\n",
       "      <td>-1000.0</td>\n",
       "      <td>0.000</td>\n",
       "      <td>3.0</td>\n",
       "      <td>7.0</td>\n",
       "      <td>150.0</td>\n",
       "    </tr>\n",
       "  </tbody>\n",
       "</table>\n",
       "</div>"
      ],
      "text/plain": [
       "                    count           mean            std      min         25%  \\\n",
       "TARGET            10281.0       0.079078       0.269873      0.0       0.000   \n",
       "CNT_CHILDREN      10284.0      10.287340     986.138233      0.0       0.000   \n",
       "AMT_INCOME_TOTAL   6993.0  167909.947902  105245.713874  27000.0  112500.000   \n",
       "AMT_CREDIT        10284.0  599902.578326  400843.758473  45000.0  270000.000   \n",
       "AMT_ANNUITY       10284.0   27191.230747   14933.326225   2974.5   16509.375   \n",
       "DAYS_BIRTH        10284.0  -16055.232400    4377.738214 -25166.0  -19724.250   \n",
       "YEARS_EMPLOYED    10284.0    -176.848016     388.125395  -1000.0       0.000   \n",
       "\n",
       "                       50%       75%        max  \n",
       "TARGET                 0.0       0.0        1.0  \n",
       "CNT_CHILDREN           0.0       1.0    99999.0  \n",
       "AMT_INCOME_TOTAL  144000.0  202500.0  3825000.0  \n",
       "AMT_CREDIT        512446.5  810000.0  4050000.0  \n",
       "AMT_ANNUITY        25128.0   34596.0   258025.5  \n",
       "DAYS_BIRTH        -15733.5  -12352.0    -7680.0  \n",
       "YEARS_EMPLOYED         3.0       7.0      150.0  "
      ]
     },
     "execution_count": 4,
     "metadata": {},
     "output_type": "execute_result"
    }
   ],
   "source": [
    "data.describe().T"
   ]
  },
  {
   "cell_type": "code",
   "execution_count": 5,
   "id": "630f5a58-2ecd-4e41-8576-b336111b6da6",
   "metadata": {},
   "outputs": [
    {
     "name": "stdout",
     "output_type": "stream",
     "text": [
      "<class 'pandas.core.frame.DataFrame'>\n",
      "RangeIndex: 10284 entries, 0 to 10283\n",
      "Data columns (total 11 columns):\n",
      " #   Column              Non-Null Count  Dtype  \n",
      "---  ------              --------------  -----  \n",
      " 0   TARGET              10281 non-null  float64\n",
      " 1   NAME_CONTRACT_TYPE  10284 non-null  object \n",
      " 2   CODE_GENDER         10284 non-null  object \n",
      " 3   FLAG_OWN_CAR        8022 non-null   object \n",
      " 4   FLAG_OWN_REALTY     10254 non-null  object \n",
      " 5   CNT_CHILDREN        10284 non-null  int64  \n",
      " 6   AMT_INCOME_TOTAL    6993 non-null   float64\n",
      " 7   AMT_CREDIT          10284 non-null  float64\n",
      " 8   AMT_ANNUITY         10284 non-null  float64\n",
      " 9   DAYS_BIRTH          10284 non-null  int64  \n",
      " 10  YEARS_EMPLOYED      10284 non-null  int64  \n",
      "dtypes: float64(4), int64(3), object(4)\n",
      "memory usage: 883.9+ KB\n"
     ]
    }
   ],
   "source": [
    "data.info()"
   ]
  },
  {
   "cell_type": "code",
   "execution_count": 6,
   "id": "144ba3d6-614f-48d7-83ec-3e8263b755ce",
   "metadata": {},
   "outputs": [
    {
     "data": {
      "text/plain": [
       "TARGET                   3\n",
       "NAME_CONTRACT_TYPE       0\n",
       "CODE_GENDER              0\n",
       "FLAG_OWN_CAR          2262\n",
       "FLAG_OWN_REALTY         30\n",
       "CNT_CHILDREN             0\n",
       "AMT_INCOME_TOTAL      3291\n",
       "AMT_CREDIT               0\n",
       "AMT_ANNUITY              0\n",
       "DAYS_BIRTH               0\n",
       "YEARS_EMPLOYED           0\n",
       "dtype: int64"
      ]
     },
     "execution_count": 6,
     "metadata": {},
     "output_type": "execute_result"
    }
   ],
   "source": [
    "data.isna().sum()"
   ]
  },
  {
   "cell_type": "code",
   "execution_count": 7,
   "id": "663a4d49-bd84-46d3-af2e-8b4a958ad508",
   "metadata": {},
   "outputs": [
    {
     "data": {
      "text/plain": [
       "TARGET                   2\n",
       "NAME_CONTRACT_TYPE       2\n",
       "CODE_GENDER              2\n",
       "FLAG_OWN_CAR             2\n",
       "FLAG_OWN_REALTY          4\n",
       "CNT_CHILDREN            13\n",
       "AMT_INCOME_TOTAL       260\n",
       "AMT_CREDIT            1860\n",
       "AMT_ANNUITY           4279\n",
       "DAYS_BIRTH            7604\n",
       "YEARS_EMPLOYED          46\n",
       "dtype: int64"
      ]
     },
     "execution_count": 7,
     "metadata": {},
     "output_type": "execute_result"
    }
   ],
   "source": [
    "data.nunique()"
   ]
  },
  {
   "cell_type": "markdown",
   "id": "f4686490-9775-4dce-8180-812c1bceb1f5",
   "metadata": {},
   "source": [
    "# Treating Inconsistencies"
   ]
  },
  {
   "cell_type": "code",
   "execution_count": 8,
   "id": "86351c59-de72-40f7-bd3e-a9c3208fb175",
   "metadata": {},
   "outputs": [
    {
     "data": {
      "text/plain": [
       "array(['N', 'Y', nan, 'YES', 'NO'], dtype=object)"
      ]
     },
     "execution_count": 8,
     "metadata": {},
     "output_type": "execute_result"
    }
   ],
   "source": [
    "data[\"FLAG_OWN_REALTY\"].unique()"
   ]
  },
  {
   "cell_type": "code",
   "execution_count": 12,
   "id": "d806a214-84df-404c-9f5e-6ac1904c58cb",
   "metadata": {},
   "outputs": [
    {
     "data": {
      "text/plain": [
       "array(['N', 'Y', nan], dtype=object)"
      ]
     },
     "execution_count": 12,
     "metadata": {},
     "output_type": "execute_result"
    }
   ],
   "source": [
    "data[\"FLAG_OWN_REALTY\"] = data[\"FLAG_OWN_REALTY\"].replace({\"YES\": \"Y\", \"NO\": \"N\"})\n",
    "data[\"FLAG_OWN_REALTY\"].unique()"
   ]
  },
  {
   "cell_type": "markdown",
   "id": "a7ec3038-1b64-4a4f-8f86-144bf863de4d",
   "metadata": {},
   "source": [
    "# Treating Missing Values"
   ]
  },
  {
   "cell_type": "markdown",
   "id": "f3a1630f-a9df-4f9a-a3a4-b68fcdaffb02",
   "metadata": {},
   "source": [
    "The TARGET column, which is our dependent variable, has 3 missing entries. Given the small number of missing values relative to the dataset size, and the importance of having complete labels for all training instances in supervised learning, the most appropriate action is to drop these rows."
   ]
  },
  {
   "cell_type": "code",
   "execution_count": 28,
   "id": "7ad6488a-d5a9-442f-b250-377d2bfad218",
   "metadata": {},
   "outputs": [],
   "source": [
    "# Drop rows where 'TARGET' is missing\n",
    "data.dropna(subset=[\"TARGET\"], inplace=True) "
   ]
  },
  {
   "cell_type": "markdown",
   "id": "080ec2a8-9c07-4b6b-8719-2d90f17676dd",
   "metadata": {},
   "source": [
    "The FLAG_OWN_CAR column, which indicates whether the applicant owns a car, contains 2,262 missing entries. Since this is a categorical variable, we will impute the missing values using the mode of this column, representing the most common category."
   ]
  },
  {
   "cell_type": "code",
   "execution_count": 27,
   "id": "5d961923-d385-421d-a790-366c4a0a5dc5",
   "metadata": {},
   "outputs": [],
   "source": [
    "# Impute missing values in 'FLAG_OWN_CAR' with the mode\n",
    "car_mode = data[\"FLAG_OWN_CAR\"].mode()[0]\n",
    "data[\"FLAG_OWN_CAR\"] = data[\"FLAG_OWN_CAR\"].fillna(car_mode)"
   ]
  },
  {
   "cell_type": "markdown",
   "id": "571e7954-e170-40f2-b736-e8456dd80cdc",
   "metadata": {},
   "source": [
    "For the AMT_INCOME_TOTAL column, which represents the total income of the applicant and has 3,291 missing values, we will use the median to impute these values. The median is preferred over the mean as it is more robust to outliers, which are evident from the wide range of income values present in our dataset"
   ]
  },
  {
   "cell_type": "code",
   "execution_count": 25,
   "id": "0755993d-f48f-4d03-93da-17a411cb5407",
   "metadata": {},
   "outputs": [],
   "source": [
    "# Impute missing values in 'AMT_INCOME_TOTAL' with the median\n",
    "income_median = data[\"AMT_INCOME_TOTAL\"].median()\n",
    "data[\"AMT_INCOME_TOTAL\"] = data[\"AMT_INCOME_TOTAL\"].fillna(income_median)"
   ]
  },
  {
   "cell_type": "code",
   "execution_count": 29,
   "id": "b96b4d55-4bcc-4d09-9bc4-191255357807",
   "metadata": {},
   "outputs": [
    {
     "data": {
      "text/plain": [
       "TARGET                 0\n",
       "NAME_CONTRACT_TYPE     0\n",
       "CODE_GENDER            0\n",
       "FLAG_OWN_CAR           0\n",
       "FLAG_OWN_REALTY       30\n",
       "CNT_CHILDREN           0\n",
       "AMT_INCOME_TOTAL       0\n",
       "AMT_CREDIT             0\n",
       "AMT_ANNUITY            0\n",
       "DAYS_BIRTH             0\n",
       "YEARS_EMPLOYED         0\n",
       "dtype: int64"
      ]
     },
     "execution_count": 29,
     "metadata": {},
     "output_type": "execute_result"
    }
   ],
   "source": [
    "# Display the summary to verify changes\n",
    "data.isna().sum()"
   ]
  },
  {
   "cell_type": "code",
   "execution_count": null,
   "id": "2dc9bec8-4db3-4d15-9b8e-c25a20ff0d2c",
   "metadata": {},
   "outputs": [],
   "source": []
  }
 ],
 "metadata": {
  "kernelspec": {
   "display_name": "Python 3 (ipykernel)",
   "language": "python",
   "name": "python3"
  },
  "language_info": {
   "codemirror_mode": {
    "name": "ipython",
    "version": 3
   },
   "file_extension": ".py",
   "mimetype": "text/x-python",
   "name": "python",
   "nbconvert_exporter": "python",
   "pygments_lexer": "ipython3",
   "version": "3.12.7"
  }
 },
 "nbformat": 4,
 "nbformat_minor": 5
}
