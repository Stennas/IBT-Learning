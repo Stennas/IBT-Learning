{
  "nbformat": 4,
  "nbformat_minor": 0,
  "metadata": {
    "colab": {
      "provenance": []
    },
    "kernelspec": {
      "name": "python3",
      "display_name": "Python 3"
    },
    "language_info": {
      "name": "python"
    }
  },
  "cells": [
    {
      "cell_type": "markdown",
      "source": [
        "Write a Python program to print the following sentence: \"Python programming is fun!\""
      ],
      "metadata": {
        "id": "dxH1gm-js0a1"
      }
    },
    {
      "cell_type": "code",
      "source": [
        "print(\"Python programming is fun!\")"
      ],
      "metadata": {
        "id": "7P2b_JFCtFfG",
        "outputId": "6e47b7d6-5e13-4277-9dd9-9e99ce8b2bf0",
        "colab": {
          "base_uri": "https://localhost:8080/"
        }
      },
      "execution_count": 1,
      "outputs": [
        {
          "output_type": "stream",
          "name": "stdout",
          "text": [
            "Python programming is fun!\n"
          ]
        }
      ]
    },
    {
      "cell_type": "markdown",
      "source": [
        "Create a variable name and assign it your name as a string. Print \"Hello, my name is name!\""
      ],
      "metadata": {
        "id": "mQWlC_gms3ll"
      }
    },
    {
      "cell_type": "code",
      "source": [
        "name = \"Stephen Nsa\"\n",
        "print(f\"Hello, my name is {name}!\")"
      ],
      "metadata": {
        "id": "tzoIO_8ftF3e",
        "outputId": "bd55d0f3-46a4-4567-86c4-07fcf7dcf00a",
        "colab": {
          "base_uri": "https://localhost:8080/"
        }
      },
      "execution_count": 2,
      "outputs": [
        {
          "output_type": "stream",
          "name": "stdout",
          "text": [
            "Hello, my name is Stephen Nsa!\n"
          ]
        }
      ]
    },
    {
      "cell_type": "markdown",
      "source": [
        "Write a Python program to calculate the sum of 123 and 456 and print the result."
      ],
      "metadata": {
        "id": "uO2vr0d5s37n"
      }
    },
    {
      "cell_type": "code",
      "source": [
        "print(123 + 456)"
      ],
      "metadata": {
        "id": "41gMrrBLtGQ-",
        "outputId": "f143f74d-d59a-4d3d-8ec1-4c7b030adbcb",
        "colab": {
          "base_uri": "https://localhost:8080/"
        }
      },
      "execution_count": 3,
      "outputs": [
        {
          "output_type": "stream",
          "name": "stdout",
          "text": [
            "579\n"
          ]
        }
      ]
    },
    {
      "cell_type": "markdown",
      "source": [
        "Create two variables a and b with values 20 and 10 respectively. Print the result of their multiplication."
      ],
      "metadata": {
        "id": "jZ8jXsfTs5U9"
      }
    },
    {
      "cell_type": "code",
      "source": [
        "a, b = 20, 10\n",
        "result = a * b\n",
        "print(result)"
      ],
      "metadata": {
        "id": "_cWBy56ftGpd",
        "outputId": "dd9cd6fd-15b0-4f1a-ad82-f2e212230dcf",
        "colab": {
          "base_uri": "https://localhost:8080/"
        }
      },
      "execution_count": 4,
      "outputs": [
        {
          "output_type": "stream",
          "name": "stdout",
          "text": [
            "200\n"
          ]
        }
      ]
    },
    {
      "cell_type": "markdown",
      "source": [
        "Create a variable age and assign it your age. Print a sentence stating your age using an f-string."
      ],
      "metadata": {
        "id": "vT9p_XXws6zN"
      }
    },
    {
      "cell_type": "code",
      "source": [
        "age = 26\n",
        "print(f\"I am {age} years old\")"
      ],
      "metadata": {
        "id": "1sA0KvectHGY",
        "outputId": "f214988a-addb-49dc-fb04-91db62e3536c",
        "colab": {
          "base_uri": "https://localhost:8080/"
        }
      },
      "execution_count": 5,
      "outputs": [
        {
          "output_type": "stream",
          "name": "stdout",
          "text": [
            "I am 26 years old\n"
          ]
        }
      ]
    },
    {
      "cell_type": "markdown",
      "source": [
        "Create a variable salary and assign it a value. Calculate a 10% bonus of the salary and print the final amount after adding the bonus to the original salary."
      ],
      "metadata": {
        "id": "mVKewXUls7gO"
      }
    },
    {
      "cell_type": "code",
      "source": [
        "salary = 10000\n",
        "bonus = salary * 0.1\n",
        "print(salary + bonus)"
      ],
      "metadata": {
        "id": "8FNCc2lEtHjt",
        "outputId": "86c37b08-9221-4dc4-e44d-736628fe920b",
        "colab": {
          "base_uri": "https://localhost:8080/"
        }
      },
      "execution_count": 6,
      "outputs": [
        {
          "output_type": "stream",
          "name": "stdout",
          "text": [
            "11000.0\n"
          ]
        }
      ]
    },
    {
      "cell_type": "markdown",
      "source": [
        "Create a list of your five favorite fruits. Write a for loop to print each fruit in the list"
      ],
      "metadata": {
        "id": "JA2mbazUs8VN"
      }
    },
    {
      "cell_type": "code",
      "source": [
        "fav_fruits = [\"apple\", \"banana\", \"orange\", \"mango\", \"pineapple\"]\n",
        "for fruit in fav_fruits:\n",
        "    print(fruit)"
      ],
      "metadata": {
        "id": "fAAZdZXztILt",
        "outputId": "ecd519ce-13ed-4c58-9b6b-ab0e7261fb4b",
        "colab": {
          "base_uri": "https://localhost:8080/"
        }
      },
      "execution_count": 7,
      "outputs": [
        {
          "output_type": "stream",
          "name": "stdout",
          "text": [
            "apple\n",
            "banana\n",
            "orange\n",
            "mango\n",
            "pineapple\n"
          ]
        }
      ]
    },
    {
      "cell_type": "markdown",
      "source": [
        "Create a list of five numbers. Write a Python program to calculate and print the sum of these numbers using a for loop."
      ],
      "metadata": {
        "id": "625Nxz2Bs9J_"
      }
    },
    {
      "cell_type": "code",
      "source": [
        "nums = [1, 2, 3, 4, 5]\n",
        "total = 0\n",
        "for num in nums:\n",
        "    total += num\n",
        "print(total)"
      ],
      "metadata": {
        "id": "yW_VPQBAtIpd",
        "outputId": "ea7a1164-5d00-4431-c8f1-9881db3c4b1f",
        "colab": {
          "base_uri": "https://localhost:8080/"
        }
      },
      "execution_count": 8,
      "outputs": [
        {
          "output_type": "stream",
          "name": "stdout",
          "text": [
            "15\n"
          ]
        }
      ]
    },
    {
      "cell_type": "markdown",
      "source": [
        "Write a Python program that checks if a number stored in the variable num is positive, negative, or zero and prints an appropriate message."
      ],
      "metadata": {
        "id": "gc6nwpoEs98t"
      }
    },
    {
      "cell_type": "code",
      "source": [
        "num = 5\n",
        "if num > 0:\n",
        "    print(\"Positive\")\n",
        "elif num < 0:\n",
        "    print(\"Negative\")\n",
        "else:\n",
        "    print(\"Zero\")"
      ],
      "metadata": {
        "id": "SvtCr0tOtJFV",
        "outputId": "d3e4a9da-1d59-4d1f-c08f-866cedeca218",
        "colab": {
          "base_uri": "https://localhost:8080/"
        }
      },
      "execution_count": 9,
      "outputs": [
        {
          "output_type": "stream",
          "name": "stdout",
          "text": [
            "Positive\n"
          ]
        }
      ]
    },
    {
      "cell_type": "markdown",
      "source": [
        "Write a Python program that takes a variable grade and prints \"Pass\" if the grade is 50 or higher and \"Fail\" otherwise."
      ],
      "metadata": {
        "id": "lt58m57fs-rF"
      }
    },
    {
      "cell_type": "code",
      "source": [
        "grade = 56\n",
        "if grade >= 50:\n",
        "    print(\"Pass\")\n",
        "else:\n",
        "    print(\"Fail\")"
      ],
      "metadata": {
        "id": "kw2FWA7ctJo9",
        "outputId": "17fbd93a-4a39-4df5-fbef-d5dd6750cfc3",
        "colab": {
          "base_uri": "https://localhost:8080/"
        }
      },
      "execution_count": 10,
      "outputs": [
        {
          "output_type": "stream",
          "name": "stdout",
          "text": [
            "Pass\n"
          ]
        }
      ]
    },
    {
      "cell_type": "markdown",
      "source": [
        "Create a dictionary named student with keys name, age, and grade. Assign appropriate values to these keys. Print the dictionary."
      ],
      "metadata": {
        "id": "bIispBbcs_qF"
      }
    },
    {
      "cell_type": "code",
      "source": [
        "student = {\n",
        "    \"name\": \"Stephen\",\n",
        "    \"age\": 26,\n",
        "    \"grade\": 90\n",
        "}\n",
        "print(student)"
      ],
      "metadata": {
        "id": "em_0bfj_tJ89",
        "outputId": "3de09413-8381-464b-cd46-029b78cfc4e6",
        "colab": {
          "base_uri": "https://localhost:8080/"
        }
      },
      "execution_count": 11,
      "outputs": [
        {
          "output_type": "stream",
          "name": "stdout",
          "text": [
            "{'name': 'Stephen', 'age': 26, 'grade': 90}\n"
          ]
        }
      ]
    },
    {
      "cell_type": "markdown",
      "source": [
        "Update the grade value in the student dictionary and print the updated dictionary."
      ],
      "metadata": {
        "id": "UgJ-5AintAR2"
      }
    },
    {
      "cell_type": "code",
      "source": [
        "student[\"grade\"] = 100\n",
        "print(student)"
      ],
      "metadata": {
        "id": "5x2gj0g2tKVe",
        "outputId": "b5909151-bf7d-4ee3-d9bb-3d63c2be1550",
        "colab": {
          "base_uri": "https://localhost:8080/"
        }
      },
      "execution_count": 12,
      "outputs": [
        {
          "output_type": "stream",
          "name": "stdout",
          "text": [
            "{'name': 'Stephen', 'age': 26, 'grade': 100}\n"
          ]
        }
      ]
    },
    {
      "cell_type": "markdown",
      "source": [
        "Create a tuple named dimensions with three elements representing the length, width, and height of a box. Print the second element of the tuple."
      ],
      "metadata": {
        "id": "5qvWr4GStBJv"
      }
    },
    {
      "cell_type": "code",
      "source": [
        "dimensions = (10, 20, 30)\n",
        "print(dimensions[1])"
      ],
      "metadata": {
        "id": "vK8ZhIo4tKr1",
        "outputId": "a9559515-1e58-46f9-97f2-e8f93217a27b",
        "colab": {
          "base_uri": "https://localhost:8080/"
        }
      },
      "execution_count": 13,
      "outputs": [
        {
          "output_type": "stream",
          "name": "stdout",
          "text": [
            "20\n"
          ]
        }
      ]
    },
    {
      "cell_type": "markdown",
      "source": [
        "Create a set named colors with elements \"red\", \"green\", and \"blue\". Add the color \"yellow\" to the set and print the updated set."
      ],
      "metadata": {
        "id": "d7LBWpTZtCUl"
      }
    },
    {
      "cell_type": "code",
      "source": [
        "colors = {\"red\", \"green\", \"blue\"}\n",
        "colors.add(\"yellow\")\n",
        "print(colors)"
      ],
      "metadata": {
        "id": "VqGOkhaHtLE9",
        "outputId": "c94c3722-64d2-4987-c084-b53584afd1b2",
        "colab": {
          "base_uri": "https://localhost:8080/"
        }
      },
      "execution_count": 16,
      "outputs": [
        {
          "output_type": "stream",
          "name": "stdout",
          "text": [
            "{'red', 'yellow', 'green', 'blue'}\n"
          ]
        }
      ]
    },
    {
      "cell_type": "markdown",
      "source": [
        "Write a function named greet that takes a name as an argument and prints \"Hello, name!\". Call this function with your name."
      ],
      "metadata": {
        "id": "i_10n3AgtDMG"
      }
    },
    {
      "cell_type": "code",
      "source": [
        "def greet(name):\n",
        "    print(f\"Hello, {name}!\")\n",
        "\n",
        "greet(\"Stephen\")"
      ],
      "metadata": {
        "id": "4ZHIm1C4tLcd",
        "outputId": "b6efea59-0f16-4246-99fc-99ac460d8aa6",
        "colab": {
          "base_uri": "https://localhost:8080/"
        }
      },
      "execution_count": 17,
      "outputs": [
        {
          "output_type": "stream",
          "name": "stdout",
          "text": [
            "Hello, Stephen!\n"
          ]
        }
      ]
    },
    {
      "cell_type": "markdown",
      "source": [
        "Write a function named calculate_area that takes the radius of a circle as an argument and returns the area of the circle. Use this function to calculate and print the area of a circle with a radius of 5."
      ],
      "metadata": {
        "id": "mBK4Or7UtECV"
      }
    },
    {
      "cell_type": "code",
      "source": [
        "def calculate_area(radius):\n",
        "    return 3.14 * radius ** 2\n",
        "\n",
        "print(calculate_area(5))\n"
      ],
      "metadata": {
        "id": "UknlI32_tLwV",
        "outputId": "46015533-df08-444e-fd82-eb7a078486ce",
        "colab": {
          "base_uri": "https://localhost:8080/"
        }
      },
      "execution_count": 18,
      "outputs": [
        {
          "output_type": "stream",
          "name": "stdout",
          "text": [
            "78.5\n"
          ]
        }
      ]
    },
    {
      "cell_type": "code",
      "source": [],
      "metadata": {
        "id": "kjnln4m6uCHA"
      },
      "execution_count": null,
      "outputs": []
    }
  ]
}