{
  "nbformat": 4,
  "nbformat_minor": 0,
  "metadata": {
    "colab": {
      "provenance": []
    },
    "kernelspec": {
      "name": "python3",
      "display_name": "Python 3"
    },
    "language_info": {
      "name": "python"
    }
  },
  "cells": [
    {
      "cell_type": "markdown",
      "source": [
        "Write a Python function that takes a user's name, age, and favorite color as input and prints a formatted sentence: \"Hello, [name]! You are [age] years old and your favorite color is [color].\""
      ],
      "metadata": {
        "id": "lQ21JqrfueHN"
      }
    },
    {
      "cell_type": "code",
      "source": [
        "def hello(name, age, color):\n",
        "    print(f\"Hello, {name}! You are {age} years old and your favorite color is {color}.\")"
      ],
      "metadata": {
        "id": "atnSQZNHujrN"
      },
      "execution_count": 1,
      "outputs": []
    },
    {
      "cell_type": "markdown",
      "source": [
        "Create a Python function that calculates the compound interest for a principal amount, interest rate, and time period (given as arguments to the function). Use the formula:\n",
        "\n",
        "$V=P\\left(1+{\\frac {r}{n}}\\right)^{nt}$\n",
        "\n",
        "where P is the principal amount, r is the annual interest rate, n is the number of times interest is compounded per year, and t is the number of years. Print the final amount."
      ],
      "metadata": {
        "id": "3IrZsxZ_uj7N"
      }
    },
    {
      "cell_type": "code",
      "source": [
        "def compound_interest(P, r, n, t):\n",
        "    V = P * (1 + (r / n)) ** (n * t)\n",
        "    print(V)"
      ],
      "metadata": {
        "id": "2CFYa7uCuyUZ"
      },
      "execution_count": 2,
      "outputs": []
    },
    {
      "cell_type": "markdown",
      "source": [
        "Write a function that takes a word from the user and counts the number of vowels (a, e, i, o, u) in the word."
      ],
      "metadata": {
        "id": "1VYzGzq9vLyd"
      }
    },
    {
      "cell_type": "code",
      "source": [
        "def count_vowels(word):\n",
        "    vowels = \"aeiouAEIOU\"\n",
        "    count = 0\n",
        "    for char in word:\n",
        "        if char in vowels:\n",
        "            count += 1\n",
        "    print(f\"'{word}' has {count} vowels.\")\n",
        "word = input(\"Enter a word: \")\n",
        "count_vowels(word)"
      ],
      "metadata": {
        "id": "7MKROtfTvjwe",
        "outputId": "6a4c6960-7efd-4ba8-bca9-edc69bf5866b",
        "colab": {
          "base_uri": "https://localhost:8080/"
        }
      },
      "execution_count": 9,
      "outputs": [
        {
          "output_type": "stream",
          "name": "stdout",
          "text": [
            "Enter a word: Asceticism\n",
            "'Asceticism' has 4 vowels.\n"
          ]
        }
      ]
    },
    {
      "cell_type": "markdown",
      "source": [
        "Create a Python function that takes a list of numbers and prints \"even\" or \"odd\" for each number in the list. Additionally, if a number is prime, it should print \"prime\" instead."
      ],
      "metadata": {
        "id": "s5MvIklpvp2-"
      }
    },
    {
      "cell_type": "code",
      "source": [
        "def even_odd_prime(numbers):\n",
        "    for num in numbers:\n",
        "        if num % 2 == 0:\n",
        "            if is_prime(num):\n",
        "                print(f\"{num} is even and prime\")\n",
        "            else:\n",
        "                print(f\"{num} is even\")\n",
        "def is_prime(num):\n",
        "    if num < 2:\n",
        "        return False\n",
        "    for i in range(2, int(num ** 0.5) + 1):\n",
        "        if num % i == 0:\n",
        "            return False\n",
        "    return True\n",
        "numbers = [1, 2, 3, 4, 5, 6, 7, 8, 9, 10]\n",
        "even_odd_prime(numbers)"
      ],
      "metadata": {
        "id": "KfPO5ql9vqyO",
        "outputId": "035f026b-84ff-4ae7-92d0-dca3019b3be7",
        "colab": {
          "base_uri": "https://localhost:8080/"
        }
      },
      "execution_count": 10,
      "outputs": [
        {
          "output_type": "stream",
          "name": "stdout",
          "text": [
            "2 is even and prime\n",
            "4 is even\n",
            "6 is even\n",
            "8 is even\n",
            "10 is even\n"
          ]
        }
      ]
    },
    {
      "cell_type": "markdown",
      "source": [
        "Create a dictionary representing a simple address book where keys are names and values are another dictionary with keys phone, email, and address."
      ],
      "metadata": {
        "id": "BsPCEBktv-xl"
      }
    },
    {
      "cell_type": "code",
      "source": [
        "addressbook = {\"Joe\": {\"phone\": 23482343568, \"email\": \"joegoldberg@gmail.com\", \"address\": \"7 Melby, old GRA Road, Port Harcourt, Nigeria\"} ,\n",
        "               \"Jane\": {\"phone\": 23482343568, \"email\": \"janedoe@gmail.com\"}, \"address\": \"14 Mutarla Mohammed High way, Calabar, Nigeria\"}"
      ],
      "metadata": {
        "id": "65EPdCrpw3xe"
      },
      "execution_count": 11,
      "outputs": []
    }
  ]
}